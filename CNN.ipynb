{
  "cells": [
    {
      "cell_type": "markdown",
      "metadata": {
        "id": "view-in-github",
        "colab_type": "text"
      },
      "source": [
        "<a href=\"https://colab.research.google.com/github/Rutvik17-tech/Sign_language_Recoginition/blob/main/CNN.ipynb\" target=\"_parent\"><img src=\"https://colab.research.google.com/assets/colab-badge.svg\" alt=\"Open In Colab\"/></a>"
      ]
    },
    {
      "cell_type": "code",
      "execution_count": 1,
      "metadata": {
        "colab": {
          "base_uri": "https://localhost:8080/"
        },
        "id": "2ezqXTUIGqiO",
        "outputId": "22061e53-03d3-49a2-d6e2-76a93b83245c"
      },
      "outputs": [
        {
          "output_type": "stream",
          "name": "stdout",
          "text": [
            "Looking in indexes: https://pypi.org/simple, https://us-python.pkg.dev/colab-wheels/public/simple/\n",
            "Collecting kaleido\n",
            "  Downloading kaleido-0.2.1-py2.py3-none-manylinux1_x86_64.whl (79.9 MB)\n",
            "\u001b[2K     \u001b[90m━━━━━━━━━━━━━━━━━━━━━━━━━━━━━━━━━━━━━━━━\u001b[0m \u001b[32m79.9/79.9 MB\u001b[0m \u001b[31m10.2 MB/s\u001b[0m eta \u001b[36m0:00:00\u001b[0m\n",
            "\u001b[?25hInstalling collected packages: kaleido\n",
            "Successfully installed kaleido-0.2.1\n"
          ]
        }
      ],
      "source": [
        "!pip install -U kaleido"
      ]
    },
    {
      "cell_type": "code",
      "execution_count": 6,
      "metadata": {
        "id": "9O86NpL1pZaL"
      },
      "outputs": [],
      "source": [
        "import numpy as np \n",
        "import random as rd\n",
        "\n",
        "import plotly.express as px\n",
        "\n",
        "from PIL import Image\n",
        "import pandas as pn\n",
        "\n",
        "import seaborn as sns\n",
        "import matplotlib.pyplot as pic\n",
        "%matplotlib inline\n",
        "\n",
        "\n",
        "from sklearn.model_selection import train_test_split\n",
        "from sklearn.metrics import confusion_matrix\n",
        "from sklearn.metrics import classification_report\n",
        "import tensorflow as tf\n",
        "from tensorflow import keras\n",
        "from tensorflow.keras import layers\n",
        "\n",
        "from keras.preprocessing.image import ImageDataGenerator\n",
        "\n",
        "from numpy.random import seed\n",
        "seed(10)\n",
        "tf.random.set_seed(20)\n"
      ]
    },
    {
      "cell_type": "code",
      "execution_count": 7,
      "metadata": {
        "colab": {
          "base_uri": "https://localhost:8080/",
          "height": 300
        },
        "id": "d8LIcoixptEJ",
        "outputId": "c2134dd0-9b86-49e5-8719-82088629ca5f"
      },
      "outputs": [
        {
          "output_type": "execute_result",
          "data": {
            "text/plain": [
              "   label  pixel1  pixel2  pixel3  pixel4  pixel5  pixel6  pixel7  pixel8  \\\n",
              "0      3     107     118     127     134     139     143     146     150   \n",
              "1      6     155     157     156     156     156     157     156     158   \n",
              "2      2     187     188     188     187     187     186     187     188   \n",
              "3      2     211     211     212     212     211     210     211     210   \n",
              "4     13     164     167     170     172     176     179     180     184   \n",
              "\n",
              "   pixel9  ...  pixel775  pixel776  pixel777  pixel778  pixel779  pixel780  \\\n",
              "0     153  ...       207       207       207       207       206       206   \n",
              "1     158  ...        69       149       128        87        94       163   \n",
              "2     187  ...       202       201       200       199       198       199   \n",
              "3     210  ...       235       234       233       231       230       226   \n",
              "4     185  ...        92       105       105       108       133       163   \n",
              "\n",
              "   pixel781  pixel782  pixel783  pixel784  \n",
              "0       206       204       203       202  \n",
              "1       175       103       135       149  \n",
              "2       198       195       194       195  \n",
              "3       225       222       229       163  \n",
              "4       157       163       164       179  \n",
              "\n",
              "[5 rows x 785 columns]"
            ],
            "text/html": [
              "\n",
              "  <div id=\"df-186360e7-a6f2-44e5-b80a-1759af8fba1f\">\n",
              "    <div class=\"colab-df-container\">\n",
              "      <div>\n",
              "<style scoped>\n",
              "    .dataframe tbody tr th:only-of-type {\n",
              "        vertical-align: middle;\n",
              "    }\n",
              "\n",
              "    .dataframe tbody tr th {\n",
              "        vertical-align: top;\n",
              "    }\n",
              "\n",
              "    .dataframe thead th {\n",
              "        text-align: right;\n",
              "    }\n",
              "</style>\n",
              "<table border=\"1\" class=\"dataframe\">\n",
              "  <thead>\n",
              "    <tr style=\"text-align: right;\">\n",
              "      <th></th>\n",
              "      <th>label</th>\n",
              "      <th>pixel1</th>\n",
              "      <th>pixel2</th>\n",
              "      <th>pixel3</th>\n",
              "      <th>pixel4</th>\n",
              "      <th>pixel5</th>\n",
              "      <th>pixel6</th>\n",
              "      <th>pixel7</th>\n",
              "      <th>pixel8</th>\n",
              "      <th>pixel9</th>\n",
              "      <th>...</th>\n",
              "      <th>pixel775</th>\n",
              "      <th>pixel776</th>\n",
              "      <th>pixel777</th>\n",
              "      <th>pixel778</th>\n",
              "      <th>pixel779</th>\n",
              "      <th>pixel780</th>\n",
              "      <th>pixel781</th>\n",
              "      <th>pixel782</th>\n",
              "      <th>pixel783</th>\n",
              "      <th>pixel784</th>\n",
              "    </tr>\n",
              "  </thead>\n",
              "  <tbody>\n",
              "    <tr>\n",
              "      <th>0</th>\n",
              "      <td>3</td>\n",
              "      <td>107</td>\n",
              "      <td>118</td>\n",
              "      <td>127</td>\n",
              "      <td>134</td>\n",
              "      <td>139</td>\n",
              "      <td>143</td>\n",
              "      <td>146</td>\n",
              "      <td>150</td>\n",
              "      <td>153</td>\n",
              "      <td>...</td>\n",
              "      <td>207</td>\n",
              "      <td>207</td>\n",
              "      <td>207</td>\n",
              "      <td>207</td>\n",
              "      <td>206</td>\n",
              "      <td>206</td>\n",
              "      <td>206</td>\n",
              "      <td>204</td>\n",
              "      <td>203</td>\n",
              "      <td>202</td>\n",
              "    </tr>\n",
              "    <tr>\n",
              "      <th>1</th>\n",
              "      <td>6</td>\n",
              "      <td>155</td>\n",
              "      <td>157</td>\n",
              "      <td>156</td>\n",
              "      <td>156</td>\n",
              "      <td>156</td>\n",
              "      <td>157</td>\n",
              "      <td>156</td>\n",
              "      <td>158</td>\n",
              "      <td>158</td>\n",
              "      <td>...</td>\n",
              "      <td>69</td>\n",
              "      <td>149</td>\n",
              "      <td>128</td>\n",
              "      <td>87</td>\n",
              "      <td>94</td>\n",
              "      <td>163</td>\n",
              "      <td>175</td>\n",
              "      <td>103</td>\n",
              "      <td>135</td>\n",
              "      <td>149</td>\n",
              "    </tr>\n",
              "    <tr>\n",
              "      <th>2</th>\n",
              "      <td>2</td>\n",
              "      <td>187</td>\n",
              "      <td>188</td>\n",
              "      <td>188</td>\n",
              "      <td>187</td>\n",
              "      <td>187</td>\n",
              "      <td>186</td>\n",
              "      <td>187</td>\n",
              "      <td>188</td>\n",
              "      <td>187</td>\n",
              "      <td>...</td>\n",
              "      <td>202</td>\n",
              "      <td>201</td>\n",
              "      <td>200</td>\n",
              "      <td>199</td>\n",
              "      <td>198</td>\n",
              "      <td>199</td>\n",
              "      <td>198</td>\n",
              "      <td>195</td>\n",
              "      <td>194</td>\n",
              "      <td>195</td>\n",
              "    </tr>\n",
              "    <tr>\n",
              "      <th>3</th>\n",
              "      <td>2</td>\n",
              "      <td>211</td>\n",
              "      <td>211</td>\n",
              "      <td>212</td>\n",
              "      <td>212</td>\n",
              "      <td>211</td>\n",
              "      <td>210</td>\n",
              "      <td>211</td>\n",
              "      <td>210</td>\n",
              "      <td>210</td>\n",
              "      <td>...</td>\n",
              "      <td>235</td>\n",
              "      <td>234</td>\n",
              "      <td>233</td>\n",
              "      <td>231</td>\n",
              "      <td>230</td>\n",
              "      <td>226</td>\n",
              "      <td>225</td>\n",
              "      <td>222</td>\n",
              "      <td>229</td>\n",
              "      <td>163</td>\n",
              "    </tr>\n",
              "    <tr>\n",
              "      <th>4</th>\n",
              "      <td>13</td>\n",
              "      <td>164</td>\n",
              "      <td>167</td>\n",
              "      <td>170</td>\n",
              "      <td>172</td>\n",
              "      <td>176</td>\n",
              "      <td>179</td>\n",
              "      <td>180</td>\n",
              "      <td>184</td>\n",
              "      <td>185</td>\n",
              "      <td>...</td>\n",
              "      <td>92</td>\n",
              "      <td>105</td>\n",
              "      <td>105</td>\n",
              "      <td>108</td>\n",
              "      <td>133</td>\n",
              "      <td>163</td>\n",
              "      <td>157</td>\n",
              "      <td>163</td>\n",
              "      <td>164</td>\n",
              "      <td>179</td>\n",
              "    </tr>\n",
              "  </tbody>\n",
              "</table>\n",
              "<p>5 rows × 785 columns</p>\n",
              "</div>\n",
              "      <button class=\"colab-df-convert\" onclick=\"convertToInteractive('df-186360e7-a6f2-44e5-b80a-1759af8fba1f')\"\n",
              "              title=\"Convert this dataframe to an interactive table.\"\n",
              "              style=\"display:none;\">\n",
              "        \n",
              "  <svg xmlns=\"http://www.w3.org/2000/svg\" height=\"24px\"viewBox=\"0 0 24 24\"\n",
              "       width=\"24px\">\n",
              "    <path d=\"M0 0h24v24H0V0z\" fill=\"none\"/>\n",
              "    <path d=\"M18.56 5.44l.94 2.06.94-2.06 2.06-.94-2.06-.94-.94-2.06-.94 2.06-2.06.94zm-11 1L8.5 8.5l.94-2.06 2.06-.94-2.06-.94L8.5 2.5l-.94 2.06-2.06.94zm10 10l.94 2.06.94-2.06 2.06-.94-2.06-.94-.94-2.06-.94 2.06-2.06.94z\"/><path d=\"M17.41 7.96l-1.37-1.37c-.4-.4-.92-.59-1.43-.59-.52 0-1.04.2-1.43.59L10.3 9.45l-7.72 7.72c-.78.78-.78 2.05 0 2.83L4 21.41c.39.39.9.59 1.41.59.51 0 1.02-.2 1.41-.59l7.78-7.78 2.81-2.81c.8-.78.8-2.07 0-2.86zM5.41 20L4 18.59l7.72-7.72 1.47 1.35L5.41 20z\"/>\n",
              "  </svg>\n",
              "      </button>\n",
              "      \n",
              "  <style>\n",
              "    .colab-df-container {\n",
              "      display:flex;\n",
              "      flex-wrap:wrap;\n",
              "      gap: 12px;\n",
              "    }\n",
              "\n",
              "    .colab-df-convert {\n",
              "      background-color: #E8F0FE;\n",
              "      border: none;\n",
              "      border-radius: 50%;\n",
              "      cursor: pointer;\n",
              "      display: none;\n",
              "      fill: #1967D2;\n",
              "      height: 32px;\n",
              "      padding: 0 0 0 0;\n",
              "      width: 32px;\n",
              "    }\n",
              "\n",
              "    .colab-df-convert:hover {\n",
              "      background-color: #E2EBFA;\n",
              "      box-shadow: 0px 1px 2px rgba(60, 64, 67, 0.3), 0px 1px 3px 1px rgba(60, 64, 67, 0.15);\n",
              "      fill: #174EA6;\n",
              "    }\n",
              "\n",
              "    [theme=dark] .colab-df-convert {\n",
              "      background-color: #3B4455;\n",
              "      fill: #D2E3FC;\n",
              "    }\n",
              "\n",
              "    [theme=dark] .colab-df-convert:hover {\n",
              "      background-color: #434B5C;\n",
              "      box-shadow: 0px 1px 3px 1px rgba(0, 0, 0, 0.15);\n",
              "      filter: drop-shadow(0px 1px 2px rgba(0, 0, 0, 0.3));\n",
              "      fill: #FFFFFF;\n",
              "    }\n",
              "  </style>\n",
              "\n",
              "      <script>\n",
              "        const buttonEl =\n",
              "          document.querySelector('#df-186360e7-a6f2-44e5-b80a-1759af8fba1f button.colab-df-convert');\n",
              "        buttonEl.style.display =\n",
              "          google.colab.kernel.accessAllowed ? 'block' : 'none';\n",
              "\n",
              "        async function convertToInteractive(key) {\n",
              "          const element = document.querySelector('#df-186360e7-a6f2-44e5-b80a-1759af8fba1f');\n",
              "          const dataTable =\n",
              "            await google.colab.kernel.invokeFunction('convertToInteractive',\n",
              "                                                     [key], {});\n",
              "          if (!dataTable) return;\n",
              "\n",
              "          const docLinkHtml = 'Like what you see? Visit the ' +\n",
              "            '<a target=\"_blank\" href=https://colab.research.google.com/notebooks/data_table.ipynb>data table notebook</a>'\n",
              "            + ' to learn more about interactive tables.';\n",
              "          element.innerHTML = '';\n",
              "          dataTable['output_type'] = 'display_data';\n",
              "          await google.colab.output.renderOutput(dataTable, element);\n",
              "          const docLink = document.createElement('div');\n",
              "          docLink.innerHTML = docLinkHtml;\n",
              "          element.appendChild(docLink);\n",
              "        }\n",
              "      </script>\n",
              "    </div>\n",
              "  </div>\n",
              "  "
            ]
          },
          "metadata": {},
          "execution_count": 7
        }
      ],
      "source": [
        "tn = pn.read_csv(\"../content/Input/sign_mnist_train.csv\")\n",
        "tn.head()"
      ]
    },
    {
      "cell_type": "code",
      "execution_count": 8,
      "metadata": {
        "colab": {
          "base_uri": "https://localhost:8080/",
          "height": 300
        },
        "id": "S9SY2ibrptmJ",
        "outputId": "00db1b98-e0c0-4042-b47a-8a1a8b4cb110"
      },
      "outputs": [
        {
          "output_type": "execute_result",
          "data": {
            "text/plain": [
              "   label  pixel1  pixel2  pixel3  pixel4  pixel5  pixel6  pixel7  pixel8  \\\n",
              "0      6     149     149     150     150     150     151     151     150   \n",
              "1      5     126     128     131     132     133     134     135     135   \n",
              "2     10      85      88      92      96     105     123     135     143   \n",
              "3      0     203     205     207     206     207     209     210     209   \n",
              "4      3     188     191     193     195     199     201     202     203   \n",
              "\n",
              "   pixel9  ...  pixel775  pixel776  pixel777  pixel778  pixel779  pixel780  \\\n",
              "0     151  ...       138       148       127        89        82        96   \n",
              "1     136  ...        47       104       194       183       186       184   \n",
              "2     147  ...        68       166       242       227       230       227   \n",
              "3     210  ...       154       248       247       248       253       236   \n",
              "4     203  ...        26        40        64        48        29        46   \n",
              "\n",
              "   pixel781  pixel782  pixel783  pixel784  \n",
              "0       106       112       120       107  \n",
              "1       184       184       182       180  \n",
              "2       226       225       224       222  \n",
              "3       230       240       253       255  \n",
              "4        49        46        46        53  \n",
              "\n",
              "[5 rows x 785 columns]"
            ],
            "text/html": [
              "\n",
              "  <div id=\"df-52286c3c-d745-4996-9c85-b39aba984a24\">\n",
              "    <div class=\"colab-df-container\">\n",
              "      <div>\n",
              "<style scoped>\n",
              "    .dataframe tbody tr th:only-of-type {\n",
              "        vertical-align: middle;\n",
              "    }\n",
              "\n",
              "    .dataframe tbody tr th {\n",
              "        vertical-align: top;\n",
              "    }\n",
              "\n",
              "    .dataframe thead th {\n",
              "        text-align: right;\n",
              "    }\n",
              "</style>\n",
              "<table border=\"1\" class=\"dataframe\">\n",
              "  <thead>\n",
              "    <tr style=\"text-align: right;\">\n",
              "      <th></th>\n",
              "      <th>label</th>\n",
              "      <th>pixel1</th>\n",
              "      <th>pixel2</th>\n",
              "      <th>pixel3</th>\n",
              "      <th>pixel4</th>\n",
              "      <th>pixel5</th>\n",
              "      <th>pixel6</th>\n",
              "      <th>pixel7</th>\n",
              "      <th>pixel8</th>\n",
              "      <th>pixel9</th>\n",
              "      <th>...</th>\n",
              "      <th>pixel775</th>\n",
              "      <th>pixel776</th>\n",
              "      <th>pixel777</th>\n",
              "      <th>pixel778</th>\n",
              "      <th>pixel779</th>\n",
              "      <th>pixel780</th>\n",
              "      <th>pixel781</th>\n",
              "      <th>pixel782</th>\n",
              "      <th>pixel783</th>\n",
              "      <th>pixel784</th>\n",
              "    </tr>\n",
              "  </thead>\n",
              "  <tbody>\n",
              "    <tr>\n",
              "      <th>0</th>\n",
              "      <td>6</td>\n",
              "      <td>149</td>\n",
              "      <td>149</td>\n",
              "      <td>150</td>\n",
              "      <td>150</td>\n",
              "      <td>150</td>\n",
              "      <td>151</td>\n",
              "      <td>151</td>\n",
              "      <td>150</td>\n",
              "      <td>151</td>\n",
              "      <td>...</td>\n",
              "      <td>138</td>\n",
              "      <td>148</td>\n",
              "      <td>127</td>\n",
              "      <td>89</td>\n",
              "      <td>82</td>\n",
              "      <td>96</td>\n",
              "      <td>106</td>\n",
              "      <td>112</td>\n",
              "      <td>120</td>\n",
              "      <td>107</td>\n",
              "    </tr>\n",
              "    <tr>\n",
              "      <th>1</th>\n",
              "      <td>5</td>\n",
              "      <td>126</td>\n",
              "      <td>128</td>\n",
              "      <td>131</td>\n",
              "      <td>132</td>\n",
              "      <td>133</td>\n",
              "      <td>134</td>\n",
              "      <td>135</td>\n",
              "      <td>135</td>\n",
              "      <td>136</td>\n",
              "      <td>...</td>\n",
              "      <td>47</td>\n",
              "      <td>104</td>\n",
              "      <td>194</td>\n",
              "      <td>183</td>\n",
              "      <td>186</td>\n",
              "      <td>184</td>\n",
              "      <td>184</td>\n",
              "      <td>184</td>\n",
              "      <td>182</td>\n",
              "      <td>180</td>\n",
              "    </tr>\n",
              "    <tr>\n",
              "      <th>2</th>\n",
              "      <td>10</td>\n",
              "      <td>85</td>\n",
              "      <td>88</td>\n",
              "      <td>92</td>\n",
              "      <td>96</td>\n",
              "      <td>105</td>\n",
              "      <td>123</td>\n",
              "      <td>135</td>\n",
              "      <td>143</td>\n",
              "      <td>147</td>\n",
              "      <td>...</td>\n",
              "      <td>68</td>\n",
              "      <td>166</td>\n",
              "      <td>242</td>\n",
              "      <td>227</td>\n",
              "      <td>230</td>\n",
              "      <td>227</td>\n",
              "      <td>226</td>\n",
              "      <td>225</td>\n",
              "      <td>224</td>\n",
              "      <td>222</td>\n",
              "    </tr>\n",
              "    <tr>\n",
              "      <th>3</th>\n",
              "      <td>0</td>\n",
              "      <td>203</td>\n",
              "      <td>205</td>\n",
              "      <td>207</td>\n",
              "      <td>206</td>\n",
              "      <td>207</td>\n",
              "      <td>209</td>\n",
              "      <td>210</td>\n",
              "      <td>209</td>\n",
              "      <td>210</td>\n",
              "      <td>...</td>\n",
              "      <td>154</td>\n",
              "      <td>248</td>\n",
              "      <td>247</td>\n",
              "      <td>248</td>\n",
              "      <td>253</td>\n",
              "      <td>236</td>\n",
              "      <td>230</td>\n",
              "      <td>240</td>\n",
              "      <td>253</td>\n",
              "      <td>255</td>\n",
              "    </tr>\n",
              "    <tr>\n",
              "      <th>4</th>\n",
              "      <td>3</td>\n",
              "      <td>188</td>\n",
              "      <td>191</td>\n",
              "      <td>193</td>\n",
              "      <td>195</td>\n",
              "      <td>199</td>\n",
              "      <td>201</td>\n",
              "      <td>202</td>\n",
              "      <td>203</td>\n",
              "      <td>203</td>\n",
              "      <td>...</td>\n",
              "      <td>26</td>\n",
              "      <td>40</td>\n",
              "      <td>64</td>\n",
              "      <td>48</td>\n",
              "      <td>29</td>\n",
              "      <td>46</td>\n",
              "      <td>49</td>\n",
              "      <td>46</td>\n",
              "      <td>46</td>\n",
              "      <td>53</td>\n",
              "    </tr>\n",
              "  </tbody>\n",
              "</table>\n",
              "<p>5 rows × 785 columns</p>\n",
              "</div>\n",
              "      <button class=\"colab-df-convert\" onclick=\"convertToInteractive('df-52286c3c-d745-4996-9c85-b39aba984a24')\"\n",
              "              title=\"Convert this dataframe to an interactive table.\"\n",
              "              style=\"display:none;\">\n",
              "        \n",
              "  <svg xmlns=\"http://www.w3.org/2000/svg\" height=\"24px\"viewBox=\"0 0 24 24\"\n",
              "       width=\"24px\">\n",
              "    <path d=\"M0 0h24v24H0V0z\" fill=\"none\"/>\n",
              "    <path d=\"M18.56 5.44l.94 2.06.94-2.06 2.06-.94-2.06-.94-.94-2.06-.94 2.06-2.06.94zm-11 1L8.5 8.5l.94-2.06 2.06-.94-2.06-.94L8.5 2.5l-.94 2.06-2.06.94zm10 10l.94 2.06.94-2.06 2.06-.94-2.06-.94-.94-2.06-.94 2.06-2.06.94z\"/><path d=\"M17.41 7.96l-1.37-1.37c-.4-.4-.92-.59-1.43-.59-.52 0-1.04.2-1.43.59L10.3 9.45l-7.72 7.72c-.78.78-.78 2.05 0 2.83L4 21.41c.39.39.9.59 1.41.59.51 0 1.02-.2 1.41-.59l7.78-7.78 2.81-2.81c.8-.78.8-2.07 0-2.86zM5.41 20L4 18.59l7.72-7.72 1.47 1.35L5.41 20z\"/>\n",
              "  </svg>\n",
              "      </button>\n",
              "      \n",
              "  <style>\n",
              "    .colab-df-container {\n",
              "      display:flex;\n",
              "      flex-wrap:wrap;\n",
              "      gap: 12px;\n",
              "    }\n",
              "\n",
              "    .colab-df-convert {\n",
              "      background-color: #E8F0FE;\n",
              "      border: none;\n",
              "      border-radius: 50%;\n",
              "      cursor: pointer;\n",
              "      display: none;\n",
              "      fill: #1967D2;\n",
              "      height: 32px;\n",
              "      padding: 0 0 0 0;\n",
              "      width: 32px;\n",
              "    }\n",
              "\n",
              "    .colab-df-convert:hover {\n",
              "      background-color: #E2EBFA;\n",
              "      box-shadow: 0px 1px 2px rgba(60, 64, 67, 0.3), 0px 1px 3px 1px rgba(60, 64, 67, 0.15);\n",
              "      fill: #174EA6;\n",
              "    }\n",
              "\n",
              "    [theme=dark] .colab-df-convert {\n",
              "      background-color: #3B4455;\n",
              "      fill: #D2E3FC;\n",
              "    }\n",
              "\n",
              "    [theme=dark] .colab-df-convert:hover {\n",
              "      background-color: #434B5C;\n",
              "      box-shadow: 0px 1px 3px 1px rgba(0, 0, 0, 0.15);\n",
              "      filter: drop-shadow(0px 1px 2px rgba(0, 0, 0, 0.3));\n",
              "      fill: #FFFFFF;\n",
              "    }\n",
              "  </style>\n",
              "\n",
              "      <script>\n",
              "        const buttonEl =\n",
              "          document.querySelector('#df-52286c3c-d745-4996-9c85-b39aba984a24 button.colab-df-convert');\n",
              "        buttonEl.style.display =\n",
              "          google.colab.kernel.accessAllowed ? 'block' : 'none';\n",
              "\n",
              "        async function convertToInteractive(key) {\n",
              "          const element = document.querySelector('#df-52286c3c-d745-4996-9c85-b39aba984a24');\n",
              "          const dataTable =\n",
              "            await google.colab.kernel.invokeFunction('convertToInteractive',\n",
              "                                                     [key], {});\n",
              "          if (!dataTable) return;\n",
              "\n",
              "          const docLinkHtml = 'Like what you see? Visit the ' +\n",
              "            '<a target=\"_blank\" href=https://colab.research.google.com/notebooks/data_table.ipynb>data table notebook</a>'\n",
              "            + ' to learn more about interactive tables.';\n",
              "          element.innerHTML = '';\n",
              "          dataTable['output_type'] = 'display_data';\n",
              "          await google.colab.output.renderOutput(dataTable, element);\n",
              "          const docLink = document.createElement('div');\n",
              "          docLink.innerHTML = docLinkHtml;\n",
              "          element.appendChild(docLink);\n",
              "        }\n",
              "      </script>\n",
              "    </div>\n",
              "  </div>\n",
              "  "
            ]
          },
          "metadata": {},
          "execution_count": 8
        }
      ],
      "source": [
        "tt = pn.read_csv(\"../content/Input/sign_mnist_test.csv\")\n",
        "tt.head()"
      ]
    },
    {
      "cell_type": "code",
      "execution_count": 9,
      "metadata": {
        "colab": {
          "base_uri": "https://localhost:8080/"
        },
        "id": "Tw23BeO7sgVP",
        "outputId": "2e52b845-64c3-4364-8662-d225c8df2353"
      },
      "outputs": [
        {
          "output_type": "stream",
          "name": "stdout",
          "text": [
            "0\n",
            "0\n"
          ]
        }
      ],
      "source": [
        "\n",
        "print(sum(tn.isna().sum()))\n",
        "\n",
        "\n",
        "print(sum(tt.isna().sum()))"
      ]
    },
    {
      "cell_type": "code",
      "execution_count": 10,
      "metadata": {
        "colab": {
          "base_uri": "https://localhost:8080/"
        },
        "id": "gkDnVMuSshNW",
        "outputId": "c4840e5e-1572-45ab-df59-5da404e39ba7"
      },
      "outputs": [
        {
          "output_type": "stream",
          "name": "stdout",
          "text": [
            "0\n",
            "0\n"
          ]
        }
      ],
      "source": [
        "\n",
        "print(sum(tn.isnull().sum()))\n",
        "\n",
        "print(sum(tt.isnull().sum()))"
      ]
    },
    {
      "cell_type": "code",
      "execution_count": 11,
      "metadata": {
        "id": "cl_Ctg2RskMP"
      },
      "outputs": [],
      "source": [
        "\n",
        "b_1 = tn[\"label\"]\n",
        "\n",
        "\n",
        "a_1 = tn.drop(labels = [\"label\"],axis = 1) "
      ]
    },
    {
      "cell_type": "code",
      "execution_count": 12,
      "metadata": {
        "id": "jEiJyEUDsnOl"
      },
      "outputs": [],
      "source": [
        "\n",
        "b_2 = tt[\"label\"]\n",
        "\n",
        "\n",
        "a_2 = tt.drop(labels = [\"label\"],axis = 1) "
      ]
    },
    {
      "cell_type": "code",
      "execution_count": 13,
      "metadata": {
        "id": "U7SMaHG-sp6u"
      },
      "outputs": [],
      "source": [
        "\n",
        "a_1 = a_1 / 250.0\n",
        "\n",
        "a_2 = a_2 / 250.0"
      ]
    },
    {
      "cell_type": "code",
      "execution_count": 14,
      "metadata": {
        "colab": {
          "base_uri": "https://localhost:8080/"
        },
        "id": "1rQC448sss4f",
        "outputId": "4606c788-25e0-41b6-eece-196a3256ea13"
      },
      "outputs": [
        {
          "output_type": "stream",
          "name": "stdout",
          "text": [
            "(27455, 28, 28, 1)\n",
            "(7172, 28, 28, 1)\n"
          ]
        }
      ],
      "source": [
        "a_1 = a_1.values.reshape(-1,28,28,1)\n",
        "a_2 = a_2.values.reshape(-1,28,28,1)\n",
        "print(a_1.shape)\n",
        "print(a_2.shape)"
      ]
    },
    {
      "cell_type": "code",
      "execution_count": 15,
      "metadata": {
        "colab": {
          "base_uri": "https://localhost:8080/",
          "height": 648
        },
        "id": "QIKEkGmCtPqw",
        "outputId": "f27a9642-c9ea-442e-d392-962340d5145d"
      },
      "outputs": [
        {
          "output_type": "display_data",
          "data": {
            "text/plain": [
              "<Figure size 1152x792 with 25 Axes>"
            ],
            "image/png": "[encoded data removed]"
          },
          "metadata": {}
        }
      ],
      "source": [
        "\n",
        "fig, ax = pic.subplots(nrows=5, ncols=5, figsize=(16, 11),\n",
        "                        subplot_kw={'xticks': [], 'yticks': []})\n",
        "\n",
        "for n in range(25):\n",
        "    pic.subplot(5,5,n+1)\n",
        "    pic.imshow(a_1[n], cmap='gray')\n",
        "    pic.title(b_1[n])\n",
        "pic.show()"
      ]
    },
    {
      "cell_type": "code",
      "execution_count": 16,
      "metadata": {
        "colab": {
          "base_uri": "https://localhost:8080/",
          "height": 594
        },
        "id": "RAaluf6YpmHo",
        "outputId": "e22b7ebc-e2e7-490f-d009-bb21ca1b7cf0"
      },
      "outputs": [
        {
          "output_type": "display_data",
          "data": {
            "text/plain": [
              "<Figure size 1080x720 with 25 Axes>"
            ],
            "image/png": "[encoded data removed]"
          },
          "metadata": {}
        }
      ],
      "source": [
        "\n",
        "fig, ax = pic.subplots(nrows=5, ncols=5, figsize=(15, 10),\n",
        "                        subplot_kw={'xticks': [], 'yticks': []})\n",
        "\n",
        "for n in range(25):\n",
        "    pic.subplot(5,5,n+1)\n",
        "    pic.imshow(a_2[n], cmap='gray')\n",
        "    pic.title(b_2[n])\n",
        "pic.show()"
      ]
    },
    {
      "cell_type": "code",
      "execution_count": 17,
      "metadata": {
        "id": "9jVxzPPCtaP1"
      },
      "outputs": [],
      "source": [
        "\n",
        "a_1, X_val, b_1, Y_val = train_test_split(a_1, b_1, test_size = 0.3, random_state=7)"
      ]
    },
    {
      "cell_type": "code",
      "execution_count": 18,
      "metadata": {
        "colab": {
          "base_uri": "https://localhost:8080/"
        },
        "id": "1S5lS3nXtech",
        "outputId": "2d65ad11-c577-45ae-cec5-c9ed8217d8c1"
      },
      "outputs": [
        {
          "output_type": "stream",
          "name": "stdout",
          "text": [
            "(19218, 28, 28, 1)\n",
            "(19218,)\n",
            "(8237, 28, 28, 1)\n",
            "(8237,)\n",
            "(7172, 28, 28, 1)\n",
            "(7172,)\n"
          ]
        }
      ],
      "source": [
        "\n",
        "print(a_1.shape)\n",
        "print(b_1.shape)\n",
        "print(X_val.shape)\n",
        "print(Y_val.shape)\n",
        "print(a_2.shape)\n",
        "print(b_2.shape)"
      ]
    },
    {
      "cell_type": "code",
      "execution_count": 19,
      "metadata": {
        "id": "_tpwayNUthVP"
      },
      "outputs": [],
      "source": [
        "main = keras.Sequential([\n",
        "    \n",
        "    layers.BatchNormalization(),\n",
        "    layers.Conv2D(filters=32, kernel_size=(5,5), activation=\"relu\", padding='same',\n",
        "                  input_shape=[28, 28, 1]),\n",
        "    layers.MaxPool2D(),\n",
        "    layers.Dropout(.25),\n",
        "    \n",
        "    layers.BatchNormalization(),\n",
        "    layers.Conv2D(filters=32, kernel_size=(3,3), activation=\"relu\", padding='same'),\n",
        "    layers.MaxPool2D(),\n",
        "    layers.Dropout(.25),\n",
        "    \n",
        "    layers.BatchNormalization(),\n",
        "    layers.Conv2D(filters=64, kernel_size=(3,3), activation=\"relu\", padding='same'),\n",
        "    layers.MaxPool2D(),\n",
        "    layers.Dropout(.25),\n",
        "\n",
        "    layers.BatchNormalization(),\n",
        "    layers.Conv2D(filters=128, kernel_size=(3,3), activation=\"relu\", padding='same'),\n",
        "    layers.MaxPool2D(),\n",
        "    layers.Dropout(.25),\n",
        "    \n",
        "    layers.Flatten(),\n",
        "    layers.Dropout(.25),\n",
        "    layers.Dense(units=64, activation=\"relu\"),\n",
        "    layers.Dense(units=26, activation=\"softmax\"),\n",
        "])"
      ]
    },
    {
      "cell_type": "code",
      "execution_count": 20,
      "metadata": {
        "id": "VJaXNoWLtnMh"
      },
      "outputs": [],
      "source": [
        "main.compile(\n",
        "    optimizer=tf.keras.optimizers.Adam(epsilon=0.01),\n",
        "    loss='sparse_categorical_crossentropy',\n",
        "    metrics=['accuracy']\n",
        ")"
      ]
    },
    {
      "cell_type": "code",
      "execution_count": 21,
      "metadata": {
        "colab": {
          "base_uri": "https://localhost:8080/"
        },
        "id": "5yklnwIEtqq_",
        "outputId": "00cb8a97-aa35-4ba2-bcf3-f3eff00352af"
      },
      "outputs": [
        {
          "output_type": "stream",
          "name": "stdout",
          "text": [
            "Epoch 1/50\n",
            "151/151 - 38s - loss: 3.2188 - accuracy: 0.0872 - val_loss: 3.3028 - val_accuracy: 0.0459 - 38s/epoch - 251ms/step\n",
            "Epoch 2/50\n",
            "151/151 - 33s - loss: 2.3941 - accuracy: 0.2602 - val_loss: 2.7490 - val_accuracy: 0.1565 - 33s/epoch - 216ms/step\n",
            "Epoch 3/50\n",
            "151/151 - 36s - loss: 1.5006 - accuracy: 0.4881 - val_loss: 1.1109 - val_accuracy: 0.6814 - 36s/epoch - 240ms/step\n",
            "Epoch 4/50\n",
            "151/151 - 34s - loss: 1.0196 - accuracy: 0.6423 - val_loss: 0.5698 - val_accuracy: 0.8513 - 34s/epoch - 222ms/step\n",
            "Epoch 5/50\n",
            "151/151 - 35s - loss: 0.7496 - accuracy: 0.7324 - val_loss: 0.3319 - val_accuracy: 0.9136 - 35s/epoch - 232ms/step\n",
            "Epoch 6/50\n",
            "151/151 - 33s - loss: 0.5677 - accuracy: 0.8000 - val_loss: 0.2628 - val_accuracy: 0.9285 - 33s/epoch - 220ms/step\n",
            "Epoch 7/50\n",
            "151/151 - 33s - loss: 0.4467 - accuracy: 0.8445 - val_loss: 0.1574 - val_accuracy: 0.9631 - 33s/epoch - 220ms/step\n",
            "Epoch 8/50\n",
            "151/151 - 32s - loss: 0.3573 - accuracy: 0.8775 - val_loss: 0.1083 - val_accuracy: 0.9764 - 32s/epoch - 213ms/step\n",
            "Epoch 9/50\n",
            "151/151 - 33s - loss: 0.2905 - accuracy: 0.9001 - val_loss: 0.0772 - val_accuracy: 0.9809 - 33s/epoch - 221ms/step\n",
            "Epoch 10/50\n",
            "151/151 - 32s - loss: 0.2480 - accuracy: 0.9165 - val_loss: 0.0520 - val_accuracy: 0.9933 - 32s/epoch - 213ms/step\n",
            "Epoch 11/50\n",
            "151/151 - 33s - loss: 0.1982 - accuracy: 0.9337 - val_loss: 0.0311 - val_accuracy: 0.9984 - 33s/epoch - 220ms/step\n",
            "Epoch 12/50\n",
            "151/151 - 35s - loss: 0.1745 - accuracy: 0.9403 - val_loss: 0.0194 - val_accuracy: 0.9999 - 35s/epoch - 230ms/step\n",
            "Epoch 13/50\n",
            "151/151 - 32s - loss: 0.1485 - accuracy: 0.9503 - val_loss: 0.0133 - val_accuracy: 0.9998 - 32s/epoch - 215ms/step\n",
            "Epoch 14/50\n",
            "151/151 - 34s - loss: 0.1242 - accuracy: 0.9600 - val_loss: 0.0106 - val_accuracy: 0.9998 - 34s/epoch - 223ms/step\n",
            "Epoch 15/50\n",
            "151/151 - 32s - loss: 0.1072 - accuracy: 0.9654 - val_loss: 0.0057 - val_accuracy: 1.0000 - 32s/epoch - 213ms/step\n",
            "Epoch 16/50\n",
            "151/151 - 34s - loss: 0.0991 - accuracy: 0.9685 - val_loss: 0.0051 - val_accuracy: 0.9999 - 34s/epoch - 223ms/step\n",
            "Epoch 17/50\n",
            "151/151 - 41s - loss: 0.0878 - accuracy: 0.9723 - val_loss: 0.0036 - val_accuracy: 0.9999 - 41s/epoch - 269ms/step\n",
            "Epoch 18/50\n",
            "151/151 - 33s - loss: 0.0790 - accuracy: 0.9749 - val_loss: 0.0025 - val_accuracy: 0.9999 - 33s/epoch - 221ms/step\n",
            "Epoch 19/50\n",
            "151/151 - 32s - loss: 0.0694 - accuracy: 0.9784 - val_loss: 0.0021 - val_accuracy: 0.9999 - 32s/epoch - 214ms/step\n",
            "Epoch 20/50\n",
            "151/151 - 35s - loss: 0.0658 - accuracy: 0.9792 - val_loss: 0.0017 - val_accuracy: 0.9998 - 35s/epoch - 231ms/step\n",
            "Epoch 21/50\n",
            "151/151 - 34s - loss: 0.0641 - accuracy: 0.9797 - val_loss: 0.0018 - val_accuracy: 0.9999 - 34s/epoch - 224ms/step\n",
            "Epoch 22/50\n",
            "151/151 - 33s - loss: 0.0632 - accuracy: 0.9796 - val_loss: 0.0010 - val_accuracy: 1.0000 - 33s/epoch - 215ms/step\n",
            "Epoch 23/50\n",
            "151/151 - 34s - loss: 0.0532 - accuracy: 0.9831 - val_loss: 9.0986e-04 - val_accuracy: 1.0000 - 34s/epoch - 225ms/step\n",
            "Epoch 24/50\n",
            "151/151 - 33s - loss: 0.0487 - accuracy: 0.9842 - val_loss: 9.7464e-04 - val_accuracy: 0.9999 - 33s/epoch - 217ms/step\n",
            "Epoch 25/50\n",
            "151/151 - 33s - loss: 0.0438 - accuracy: 0.9862 - val_loss: 8.8558e-04 - val_accuracy: 0.9999 - 33s/epoch - 221ms/step\n",
            "Epoch 26/50\n",
            "151/151 - 35s - loss: 0.0477 - accuracy: 0.9851 - val_loss: 4.7701e-04 - val_accuracy: 1.0000 - 35s/epoch - 230ms/step\n",
            "Epoch 27/50\n",
            "151/151 - 33s - loss: 0.0442 - accuracy: 0.9863 - val_loss: 4.2677e-04 - val_accuracy: 1.0000 - 33s/epoch - 215ms/step\n",
            "Epoch 28/50\n",
            "151/151 - 37s - loss: 0.0424 - accuracy: 0.9866 - val_loss: 5.2947e-04 - val_accuracy: 1.0000 - 37s/epoch - 242ms/step\n",
            "Epoch 29/50\n",
            "151/151 - 34s - loss: 0.0419 - accuracy: 0.9859 - val_loss: 4.1774e-04 - val_accuracy: 1.0000 - 34s/epoch - 224ms/step\n",
            "Epoch 30/50\n",
            "151/151 - 33s - loss: 0.0357 - accuracy: 0.9887 - val_loss: 3.6266e-04 - val_accuracy: 1.0000 - 33s/epoch - 219ms/step\n",
            "Epoch 31/50\n",
            "151/151 - 34s - loss: 0.0359 - accuracy: 0.9885 - val_loss: 3.3517e-04 - val_accuracy: 1.0000 - 34s/epoch - 228ms/step\n",
            "Epoch 32/50\n",
            "151/151 - 34s - loss: 0.0331 - accuracy: 0.9896 - val_loss: 2.0361e-04 - val_accuracy: 1.0000 - 34s/epoch - 225ms/step\n",
            "Epoch 33/50\n",
            "151/151 - 32s - loss: 0.0329 - accuracy: 0.9900 - val_loss: 2.0063e-04 - val_accuracy: 1.0000 - 32s/epoch - 215ms/step\n",
            "Epoch 34/50\n",
            "151/151 - 34s - loss: 0.0303 - accuracy: 0.9911 - val_loss: 2.6945e-04 - val_accuracy: 1.0000 - 34s/epoch - 228ms/step\n",
            "Epoch 35/50\n",
            "151/151 - 33s - loss: 0.0276 - accuracy: 0.9914 - val_loss: 1.6189e-04 - val_accuracy: 1.0000 - 33s/epoch - 219ms/step\n",
            "Epoch 36/50\n",
            "151/151 - 34s - loss: 0.0286 - accuracy: 0.9909 - val_loss: 1.3604e-04 - val_accuracy: 1.0000 - 34s/epoch - 226ms/step\n",
            "Epoch 37/50\n",
            "151/151 - 34s - loss: 0.0289 - accuracy: 0.9911 - val_loss: 3.3287e-04 - val_accuracy: 1.0000 - 34s/epoch - 227ms/step\n",
            "Epoch 38/50\n",
            "151/151 - 33s - loss: 0.0264 - accuracy: 0.9919 - val_loss: 1.3972e-04 - val_accuracy: 1.0000 - 33s/epoch - 216ms/step\n",
            "Epoch 39/50\n",
            "151/151 - 34s - loss: 0.0320 - accuracy: 0.9900 - val_loss: 2.5351e-04 - val_accuracy: 1.0000 - 34s/epoch - 224ms/step\n",
            "Epoch 40/50\n",
            "151/151 - 35s - loss: 0.0271 - accuracy: 0.9913 - val_loss: 1.7272e-04 - val_accuracy: 1.0000 - 35s/epoch - 233ms/step\n",
            "Epoch 41/50\n",
            "151/151 - 33s - loss: 0.0250 - accuracy: 0.9923 - val_loss: 1.3887e-04 - val_accuracy: 1.0000 - 33s/epoch - 218ms/step\n",
            "Epoch 42/50\n",
            "151/151 - 35s - loss: 0.0233 - accuracy: 0.9925 - val_loss: 1.6397e-04 - val_accuracy: 1.0000 - 35s/epoch - 229ms/step\n",
            "Epoch 43/50\n",
            "151/151 - 36s - loss: 0.0224 - accuracy: 0.9929 - val_loss: 1.0503e-04 - val_accuracy: 1.0000 - 36s/epoch - 236ms/step\n",
            "Epoch 44/50\n",
            "151/151 - 33s - loss: 0.0248 - accuracy: 0.9924 - val_loss: 1.1539e-04 - val_accuracy: 1.0000 - 33s/epoch - 220ms/step\n",
            "Epoch 45/50\n",
            "151/151 - 35s - loss: 0.0241 - accuracy: 0.9922 - val_loss: 1.2232e-04 - val_accuracy: 1.0000 - 35s/epoch - 229ms/step\n",
            "Epoch 46/50\n",
            "151/151 - 36s - loss: 0.0197 - accuracy: 0.9943 - val_loss: 6.5869e-05 - val_accuracy: 1.0000 - 36s/epoch - 237ms/step\n",
            "Epoch 47/50\n",
            "151/151 - 33s - loss: 0.0212 - accuracy: 0.9934 - val_loss: 9.4355e-05 - val_accuracy: 1.0000 - 33s/epoch - 220ms/step\n",
            "Epoch 48/50\n",
            "151/151 - 35s - loss: 0.0200 - accuracy: 0.9941 - val_loss: 8.1783e-05 - val_accuracy: 1.0000 - 35s/epoch - 229ms/step\n",
            "Epoch 49/50\n",
            "151/151 - 34s - loss: 0.0186 - accuracy: 0.9947 - val_loss: 9.2422e-05 - val_accuracy: 1.0000 - 34s/epoch - 225ms/step\n",
            "Epoch 50/50\n",
            "151/151 - 33s - loss: 0.0169 - accuracy: 0.9948 - val_loss: 5.2508e-05 - val_accuracy: 1.0000 - 33s/epoch - 218ms/step\n"
          ]
        }
      ],
      "source": [
        "\n",
        "history = main.fit(\n",
        "    x = a_1,\n",
        "    y = b_1,\n",
        "    validation_data= (X_val,Y_val),\n",
        "    batch_size = 128,\n",
        "    epochs=50,\n",
        "    verbose=2,\n",
        ")\n"
      ]
    },
    {
      "cell_type": "code",
      "execution_count": 22,
      "metadata": {
        "colab": {
          "base_uri": "https://localhost:8080/",
          "height": 513
        },
        "id": "iCNymqfettcD",
        "outputId": "f79777ec-fbb4-4ec3-ae4e-7306d74eec1c"
      },
      "outputs": [
        {
          "output_type": "display_data",
          "data": {
            "text/plain": [
              "<Figure size 432x288 with 1 Axes>"
            ],
            "image/png": "[encoded data removed]"
          },
          "metadata": {
            "needs_background": "light"
          }
        },
        {
          "output_type": "display_data",
          "data": {
            "text/plain": [
              "<Figure size 432x288 with 1 Axes>"
            ],
            "image/png": "[encoded data removed]"
          },
          "metadata": {
            "needs_background": "light"
          }
        }
      ],
      "source": [
        "history_frame = pn.DataFrame(history.history)\n",
        "history_frame.loc[:, ['loss', 'val_loss']].plot()\n",
        "history_frame.loc[:, ['accuracy', 'val_accuracy']].plot();"
      ]
    },
    {
      "cell_type": "code",
      "execution_count": 23,
      "metadata": {
        "colab": {
          "base_uri": "https://localhost:8080/"
        },
        "id": "JqhUm6VxtztQ",
        "outputId": "5088b3e2-0a67-48dd-88ff-bce6043fa99e"
      },
      "outputs": [
        {
          "output_type": "stream",
          "name": "stdout",
          "text": [
            "225/225 [==============================] - 4s 16ms/step\n",
            "              precision    recall  f1-score   support\n",
            "\n",
            "           0       0.99      1.00      1.00       331\n",
            "           1       1.00      1.00      1.00       432\n",
            "           2       1.00      1.00      1.00       310\n",
            "           3       1.00      1.00      1.00       245\n",
            "           4       1.00      1.00      1.00       498\n",
            "           5       1.00      1.00      1.00       247\n",
            "           6       1.00      0.98      0.99       348\n",
            "           7       1.00      1.00      1.00       436\n",
            "           8       1.00      1.00      1.00       288\n",
            "          10       1.00      1.00      1.00       331\n",
            "          11       1.00      1.00      1.00       209\n",
            "          12       0.99      1.00      1.00       394\n",
            "          13       1.00      0.99      0.99       291\n",
            "          14       1.00      1.00      1.00       246\n",
            "          15       1.00      1.00      1.00       347\n",
            "          16       0.95      1.00      0.98       164\n",
            "          17       0.99      1.00      1.00       144\n",
            "          18       1.00      1.00      1.00       246\n",
            "          19       1.00      0.97      0.98       248\n",
            "          20       1.00      1.00      1.00       266\n",
            "          21       1.00      1.00      1.00       346\n",
            "          22       1.00      1.00      1.00       206\n",
            "          23       0.97      1.00      0.98       267\n",
            "          24       1.00      1.00      1.00       332\n",
            "\n",
            "    accuracy                           1.00      7172\n",
            "   macro avg       1.00      1.00      1.00      7172\n",
            "weighted avg       1.00      1.00      1.00      7172\n",
            "\n"
          ]
        }
      ],
      "source": [
        "predictions = main.predict(a_2)\n",
        "predictions = np.argmax(predictions,axis = 1)\n",
        "\n",
        "print(classification_report(b_2, predictions))"
      ]
    },
    {
      "cell_type": "code",
      "execution_count": 23,
      "metadata": {
        "id": "iO4tUO9It5rM"
      },
      "outputs": [],
      "source": []
    }
  ],
  "metadata": {
    "colab": {
      "provenance": [],
      "authorship_tag": "ABX9TyOAqxDIS3LSaPL32+OYH039",
      "include_colab_link": true
    },
    "kernelspec": {
      "display_name": "Python 3",
      "name": "python3"
    },
    "language_info": {
      "name": "python"
    }
  },
  "nbformat": 4,
  "nbformat_minor": 0
}